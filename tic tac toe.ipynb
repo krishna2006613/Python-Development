{
 "cells": [
  {
   "cell_type": "code",
   "execution_count": null,
   "id": "5e137aee-db56-4493-a8f3-01567ebaf39c",
   "metadata": {},
   "outputs": [
    {
     "name": "stdout",
     "output_type": "stream",
     "text": [
      "  |   |  \n",
      "---------\n",
      "  |   |  \n",
      "---------\n",
      "  |   |  \n",
      "---------\n"
     ]
    }
   ],
   "source": [
    "def print_board(board):\n",
    "    for row in board:\n",
    "        print(\" | \".join(row))\n",
    "        print(\"-\" * 9)\n",
    "\n",
    "def check_winner(board):\n",
    "    for row in board:\n",
    "        if row[0] == row[1] == row[2] != \" \":\n",
    "            return row[0]\n",
    "    \n",
    "    for col in range(3):\n",
    "        if board[0][col] == board[1][col] == board[2][col] != \" \":\n",
    "            return board[0][col]\n",
    "    \n",
    "    if board[0][0] == board[1][1] == board[2][2] != \" \":\n",
    "        return board[0][0]\n",
    "    \n",
    "    if board[0][2] == board[1][1] == board[2][0] != \" \":\n",
    "        return board[0][2]\n",
    "    \n",
    "    return None\n",
    "\n",
    "def is_full(board):\n",
    "    return all(cell != \" \" for row in board for cell in row)\n",
    "\n",
    "def tic_tac_toe():\n",
    "    board = [[\" \" for _ in range(3)] for _ in range(3)]\n",
    "    player = \"X\"\n",
    "    \n",
    "    while True:\n",
    "        print_board(board)\n",
    "        row, col = map(int, input(f\"Player {player}, enter row and column (0-2, space-separated): \").split())\n",
    "        \n",
    "        if board[row][col] == \" \":\n",
    "            board[row][col] = player\n",
    "        else:\n",
    "            print(\"Cell already taken, try again.\")\n",
    "            continue\n",
    "        \n",
    "        winner = check_winner(board)\n",
    "        if winner:\n",
    "            print_board(board)\n",
    "            print(f\"Player {winner} wins!\")\n",
    "            break\n",
    "        \n",
    "        if is_full(board):\n",
    "            print_board(board)\n",
    "            print(\"It's a draw!\")\n",
    "            break\n",
    "        \n",
    "        player = \"O\" if player == \"X\" else \"X\"\n",
    "\n",
    "if __name__ == \"__main__\":\n",
    "    tic_tac_toe()\n"
   ]
  },
  {
   "cell_type": "code",
   "execution_count": null,
   "id": "5718ca17-1efa-4803-95cb-d3f09e044a34",
   "metadata": {},
   "outputs": [],
   "source": []
  },
  {
   "cell_type": "code",
   "execution_count": null,
   "id": "e06d8be5-7583-41e0-9bd5-a109df401de6",
   "metadata": {},
   "outputs": [],
   "source": []
  }
 ],
 "metadata": {
  "kernelspec": {
   "display_name": "Python [conda env:base] *",
   "language": "python",
   "name": "conda-base-py"
  },
  "language_info": {
   "codemirror_mode": {
    "name": "ipython",
    "version": 3
   },
   "file_extension": ".py",
   "mimetype": "text/x-python",
   "name": "python",
   "nbconvert_exporter": "python",
   "pygments_lexer": "ipython3",
   "version": "3.12.7"
  }
 },
 "nbformat": 4,
 "nbformat_minor": 5
}
